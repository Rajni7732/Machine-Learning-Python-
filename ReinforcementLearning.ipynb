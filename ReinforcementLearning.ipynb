{
  "nbformat": 4,
  "nbformat_minor": 0,
  "metadata": {
    "colab": {
      "provenance": [],
      "authorship_tag": "ABX9TyNay7WLhA32d00zzl04bcqS",
      "include_colab_link": true
    },
    "kernelspec": {
      "name": "python3",
      "display_name": "Python 3"
    },
    "language_info": {
      "name": "python"
    }
  },
  "cells": [
    {
      "cell_type": "markdown",
      "metadata": {
        "id": "view-in-github",
        "colab_type": "text"
      },
      "source": [
        "<a href=\"https://colab.research.google.com/github/Rajni7732/Machine-Learning-Python-/blob/main/ReinforcementLearning.ipynb\" target=\"_parent\"><img src=\"https://colab.research.google.com/assets/colab-badge.svg\" alt=\"Open In Colab\"/></a>"
      ]
    },
    {
      "cell_type": "code",
      "execution_count": 1,
      "metadata": {
        "id": "Z9SZEvoK5-dd"
      },
      "outputs": [],
      "source": [
        "import numpy as np\n",
        "GRID_SIZE = 5\n",
        "START = 0\n",
        "GOAL = 24  # Assuming a linear grid world\n",
        "OBSTACLES = [6, 12, 13, 18]\n",
        "NUM_STATES = GRID_SIZE * GRID_SIZE\n",
        "NUM_ACTIONS = 4  # Up, Down, Left, Right\n",
        "NUM_EPISODES = 1000\n",
        "LEARNING_RATE = 0.1\n",
        "DISCOUNT_FACTOR = 0.9\n",
        "EXPLORATION_PROB = 0.2"
      ]
    },
    {
      "cell_type": "code",
      "source": [
        "q_table = np.zeros((NUM_STATES, NUM_ACTIONS))"
      ],
      "metadata": {
        "id": "o_sqIpWs6BNS"
      },
      "execution_count": 2,
      "outputs": []
    },
    {
      "cell_type": "code",
      "source": [
        "def take_action(state, action):\n",
        "    if action == 0:  # Up\n",
        "        return max(0, state - GRID_SIZE)\n",
        "    elif action == 1:  # Down\n",
        "        return min(NUM_STATES - 1, state + GRID_SIZE)\n",
        "    elif action == 2:  # Left\n",
        "        return max(0, state - 1)\n",
        "    elif action == 3:  # Right\n",
        "        return min(NUM_STATES - 1, state + 1)"
      ],
      "metadata": {
        "id": "ukrvx91z6Lom"
      },
      "execution_count": 3,
      "outputs": []
    },
    {
      "cell_type": "code",
      "source": [
        "for episode in range(NUM_EPISODES):\n",
        "    state = START\n",
        "    done = False\n",
        "\n",
        "    while not done:\n",
        "        if np.random.uniform(0, 1) < EXPLORATION_PROB:\n",
        "            action = np.random.choice([0, 1, 2, 3])  # Choose a random action\n",
        "        else:\n",
        "            action = np.argmax(q_table[state])\n",
        "\n",
        "        next_state = take_action(state, action)\n",
        "\n",
        "        if next_state in OBSTACLES:\n",
        "            reward = -1\n",
        "        elif next_state == GOAL:\n",
        "            reward = 1\n",
        "        else:\n",
        "            reward = 0\n",
        "\n",
        "        q_table[state][action] = (1 - LEARNING_RATE) * q_table[state][action] + \\\n",
        "            LEARNING_RATE * (reward + DISCOUNT_FACTOR * np.max(q_table[next_state]))\n",
        "\n",
        "        state = next_state\n",
        "\n",
        "        if state == GOAL:\n",
        "            done = True"
      ],
      "metadata": {
        "id": "Q4qTsDac6N62"
      },
      "execution_count": 4,
      "outputs": []
    },
    {
      "cell_type": "code",
      "source": [
        "state = START\n",
        "path = []\n",
        "\n",
        "while state != GOAL:\n",
        "    action = np.argmax(q_table[state])\n",
        "    state = take_action(state, action)\n",
        "    path.append(state)\n",
        "\n",
        "print(\"Agent's path:\", path)"
      ],
      "metadata": {
        "colab": {
          "base_uri": "https://localhost:8080/"
        },
        "id": "Py6TKw5x6QkD",
        "outputId": "ec4c6a0a-44a7-4e70-ff00-ac5fb8466ad6"
      },
      "execution_count": 5,
      "outputs": [
        {
          "output_type": "stream",
          "name": "stdout",
          "text": [
            "Agent's path: [5, 10, 11, 16, 17, 22, 24]\n"
          ]
        }
      ]
    },
    {
      "cell_type": "code",
      "source": [],
      "metadata": {
        "id": "8hY5d9Pm6T1g"
      },
      "execution_count": null,
      "outputs": []
    }
  ]
}